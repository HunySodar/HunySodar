{
  "nbformat": 4,
  "nbformat_minor": 0,
  "metadata": {
    "colab": {
      "provenance": [],
      "include_colab_link": true
    },
    "kernelspec": {
      "name": "python3",
      "display_name": "Python 3"
    },
    "language_info": {
      "name": "python"
    },
    "accelerator": "GPU"
  },
  "cells": [
    {
      "cell_type": "markdown",
      "metadata": {
        "id": "view-in-github",
        "colab_type": "text"
      },
      "source": [
        "<a href=\"https://colab.research.google.com/github/HunySodar/HunySodar/blob/main/test.ipynb\" target=\"_parent\"><img src=\"https://colab.research.google.com/assets/colab-badge.svg\" alt=\"Open In Colab\"/></a>"
      ]
    },
    {
      "cell_type": "markdown",
      "source": [
        "# Install Prerequisites"
      ],
      "metadata": {
        "id": "tT4786xJBWKD"
      }
    },
    {
      "cell_type": "code",
      "source": [],
      "metadata": {
        "id": "FC2t1Hu2JdYJ"
      },
      "execution_count": null,
      "outputs": []
    },
    {
      "cell_type": "markdown",
      "source": [
        "### Remove existing CUDA installation and NVIDIA drivers"
      ],
      "metadata": {
        "id": "phO2W5bZqdHt"
      }
    },
    {
      "cell_type": "code",
      "execution_count": null,
      "metadata": {
        "id": "MQtstBaofzYT"
      },
      "outputs": [],
      "source": [
        "!apt-get --purge remove cuda nvidia* libnvidia-*\n",
        "!dpkg -l | grep cuda- | awk '{print $2}' | xargs -n1 dpkg --purge\n",
        "!apt-get remove cuda-*\n",
        "!apt autoremove\n",
        "!apt-get update"
      ]
    },
    {
      "cell_type": "markdown",
      "source": [
        "### Install specific CUDA"
      ],
      "metadata": {
        "id": "6t2vFrA3qlE5"
      }
    },
    {
      "cell_type": "code",
      "source": [
        "!wget https://developer.nvidia.com/compute/cuda/9.2/Prod/local_installers/cuda-repo-ubuntu1604-9-2-local_9.2.88-1_amd64 -O cuda-repo-ubuntu1604-9-2-local_9.2.88-1_amd64.deb\n",
        "!dpkg -i cuda-repo-ubuntu1604-9-2-local_9.2.88-1_amd64.deb\n",
        "!apt-key add /var/cuda-repo-9-2-local/7fa2af80.pub\n",
        "!apt-get update\n",
        "!apt-get install cuda-9.2"
      ],
      "metadata": {
        "id": "Othydrgyf-qF"
      },
      "execution_count": null,
      "outputs": []
    },
    {
      "cell_type": "markdown",
      "source": [
        "### Installation check"
      ],
      "metadata": {
        "id": "8SnWeOi9qrNU"
      }
    },
    {
      "cell_type": "code",
      "source": [
        "!nvcc --version"
      ],
      "metadata": {
        "colab": {
          "base_uri": "https://localhost:8080/"
        },
        "id": "ZA1C6v_JhI0E",
        "outputId": "7d1c4e18-2b7a-4137-c91b-1d346452ee42"
      },
      "execution_count": null,
      "outputs": [
        {
          "output_type": "stream",
          "name": "stdout",
          "text": [
            "nvcc: NVIDIA (R) Cuda compiler driver\n",
            "Copyright (c) 2005-2018 NVIDIA Corporation\n",
            "Built on Wed_Apr_11_23:16:29_CDT_2018\n",
            "Cuda compilation tools, release 9.2, V9.2.88\n"
          ]
        }
      ]
    },
    {
      "cell_type": "markdown",
      "source": [
        "Install a jupyter extension"
      ],
      "metadata": {
        "id": "SzaCN9poqvf0"
      }
    },
    {
      "cell_type": "code",
      "source": [
        "!pip install git+git://github.com/andreinechaev/nvcc4jupyter.git"
      ],
      "metadata": {
        "colab": {
          "base_uri": "https://localhost:8080/"
        },
        "id": "2LjqG42cgdQQ",
        "outputId": "add369df-174b-48c1-a17f-5545322fc82e"
      },
      "execution_count": null,
      "outputs": [
        {
          "output_type": "stream",
          "name": "stdout",
          "text": [
            "Collecting git+git://github.com/andreinechaev/nvcc4jupyter.git\n",
            "  Cloning git://github.com/andreinechaev/nvcc4jupyter.git to /tmp/pip-req-build-c3a24qus\n",
            "  Running command git clone -q git://github.com/andreinechaev/nvcc4jupyter.git /tmp/pip-req-build-c3a24qus\n",
            "Building wheels for collected packages: NVCCPlugin\n",
            "  Building wheel for NVCCPlugin (setup.py) ... \u001b[?25l\u001b[?25hdone\n",
            "  Created wheel for NVCCPlugin: filename=NVCCPlugin-0.0.2-py3-none-any.whl size=4306 sha256=1ab03230e0c2f6d86a45ee1c6aa34a849ca7993f58637842340ac1a223bc2ead\n",
            "  Stored in directory: /tmp/pip-ephem-wheel-cache-pljnv_mt/wheels/c5/2b/c0/87008e795a14bbcdfc7c846a00d06981916331eb980b6c8bdf\n",
            "Successfully built NVCCPlugin\n",
            "Installing collected packages: NVCCPlugin\n",
            "Successfully installed NVCCPlugin-0.0.2\n"
          ]
        }
      ]
    },
    {
      "cell_type": "markdown",
      "source": [
        "Load the plugin"
      ],
      "metadata": {
        "id": "tabn9_zlqyx3"
      }
    },
    {
      "cell_type": "code",
      "source": [
        "%load_ext nvcc_plugin"
      ],
      "metadata": {
        "colab": {
          "base_uri": "https://localhost:8080/"
        },
        "id": "8uVGJjHrhdOu",
        "outputId": "cb63f36b-2823-43f8-ceab-e0923a4f5913"
      },
      "execution_count": null,
      "outputs": [
        {
          "output_type": "stream",
          "name": "stdout",
          "text": [
            "created output directory at /content/src\n",
            "Out bin /content/result.out\n"
          ]
        }
      ]
    },
    {
      "cell_type": "markdown",
      "source": [
        "# Run CUDA"
      ],
      "metadata": {
        "id": "lgumuFZuBsw2"
      }
    },
    {
      "cell_type": "markdown",
      "source": [
        "### Run a print example"
      ],
      "metadata": {
        "id": "v0COdZH9q0lV"
      }
    },
    {
      "cell_type": "code",
      "source": [
        "%%cu\n",
        "#include <iostream>\n",
        "\n",
        "int main() {\n",
        "    std::cout << \"This is from CUDA\\n\";\n",
        "    return 0;\n",
        "}"
      ],
      "metadata": {
        "colab": {
          "base_uri": "https://localhost:8080/"
        },
        "id": "jfhvU2Ghhh_U",
        "outputId": "2caf8db7-e902-46c8-df5d-7826c2fd3c11"
      },
      "execution_count": null,
      "outputs": [
        {
          "output_type": "stream",
          "name": "stdout",
          "text": [
            "This is from CUDA\n",
            "\n"
          ]
        }
      ]
    },
    {
      "cell_type": "markdown",
      "source": [
        "### Involved example"
      ],
      "metadata": {
        "id": "rkbs-IDaB14q"
      }
    },
    {
      "cell_type": "code",
      "source": [
        "%%cu\n",
        "#include <cstdio>\n",
        "#include <iostream>\n",
        "\n",
        "using namespace std;\n",
        "\n",
        "__global__ void maxi(int* a, int* b, int n)\n",
        "{\n",
        "\tint block = 256 * blockIdx.x;\n",
        "\tint max = 0;\n",
        "\n",
        "\tfor (int i = block; i < min(256 + block, n); i++) {\n",
        "\n",
        "\t\tif (max < a[i]) {\n",
        "\t\t\tmax = a[i];\n",
        "\t\t}\n",
        "\t}\n",
        "\tb[blockIdx.x] = max;\n",
        "}\n",
        "\n",
        "int main()\n",
        "{\n",
        "\n",
        "\tint n;\n",
        "\tn = 3 >> 2;\n",
        "\tint a[n];\n",
        "\n",
        "\tfor (int i = 0; i < n; i++) {\n",
        "\t\ta[i] = rand() % n;\n",
        "\t\tcout << a[i] << \"\\t\";\n",
        "\t}\n",
        "\n",
        "\tcudaEvent_t start, end;\n",
        "\tint *ad, *bd;\n",
        "\tint size = n * sizeof(int);\n",
        "\tcudaMalloc(&ad, size);\n",
        "\tcudaMemcpy(ad, a, size, cudaMemcpyHostToDevice);\n",
        "\tint grids = ceil(n * 1.0f / 256.0f);\n",
        "\tcudaMalloc(&bd, grids * sizeof(int));\n",
        "\n",
        "\tdim3 grid(grids, 1);\n",
        "\tdim3 block(1, 1);\n",
        "\n",
        "\tcudaEventCreate(&start);\n",
        "\tcudaEventCreate(&end);\n",
        "\tcudaEventRecord(start);\n",
        "\n",
        "\twhile (n > 1) {\n",
        "\t\tmaxi<<<grids, block>>>(ad, bd, n);\n",
        "\t\tn = ceil(n * 1.0f / 256.0f);\n",
        "\t\tcudaMemcpy(ad, bd, n * sizeof(int), cudaMemcpyDeviceToDevice);\n",
        "\t}\n",
        "\n",
        "\tcudaEventRecord(end);\n",
        "\tcudaEventSynchronize(end);\n",
        "\n",
        "\tfloat time = 0;\n",
        "\tcudaEventElapsedTime(&time, start, end);\n",
        "\n",
        "\tint ans[2];\n",
        "\tcudaMemcpy(ans, ad, 4, cudaMemcpyDeviceToHost);\n",
        "\n",
        "\tcout << \"The maximum element is : \" << ans[0] << endl;\n",
        "\n",
        "\tcout << \"The time required : \";\n",
        "\tcout << time << endl;\n",
        "}\n"
      ],
      "metadata": {
        "colab": {
          "base_uri": "https://localhost:8080/"
        },
        "id": "xTOfhmfwh3s4",
        "outputId": "7855693a-2db4-4877-c5b0-9b80b3096581"
      },
      "execution_count": null,
      "outputs": [
        {
          "output_type": "stream",
          "name": "stdout",
          "text": [
            "The maximum element is : 1856785120\n",
            "The time required : 0.004064\n",
            "\n"
          ]
        }
      ]
    },
    {
      "cell_type": "markdown",
      "source": [
        "### Example 1"
      ],
      "metadata": {
        "id": "7NKE8Zd8kH3R"
      }
    },
    {
      "cell_type": "code",
      "source": [
        "%%cu\n",
        "\n",
        "#include <stdio.h>\n",
        "\n",
        "// This is a special function that runs on the GPU (device) instead of the CPU (host)\n",
        "__global__ void kernel() {\n",
        "  printf(\"Hello world!\\n\");\n",
        "}\n",
        "\n",
        "int main() {\n",
        "  // Invoke the kernel function on the GPU with one block of one thread\n",
        "  kernel<<<1,1>>>();\n",
        "\n",
        "  // Check for error codes (remember to do this for _every_ CUDA function)\n",
        "  if(cudaDeviceSynchronize() != cudaSuccess) {\n",
        "    fprintf(stderr, \"CUDA Error: %s\\n\", cudaGetErrorString(cudaPeekAtLastError()));\n",
        "  }\n",
        "  return 0;\n",
        "}"
      ],
      "metadata": {
        "colab": {
          "base_uri": "https://localhost:8080/"
        },
        "id": "WoRsWBb-kHWn",
        "outputId": "c728252d-f17e-4cf9-e85f-ee998b886cc9"
      },
      "execution_count": null,
      "outputs": [
        {
          "output_type": "stream",
          "name": "stdout",
          "text": [
            "Hello world!\n",
            "\n"
          ]
        }
      ]
    },
    {
      "cell_type": "markdown",
      "source": [
        "### Example 2"
      ],
      "metadata": {
        "id": "dZHP7I8yB_Xt"
      }
    },
    {
      "cell_type": "code",
      "source": [
        "%%cu\n",
        "\n",
        "#include <stdio.h>\n",
        "\n",
        "// This kernel runs on the GPU and prints the thread's identifiers\n",
        "__global__ void kernel() {\n",
        "  printf(\"Hello from block %d thread %d\\n\", blockIdx.x, threadIdx.x);\n",
        "}\n",
        "\n",
        "int main() {\n",
        "  // Launch the kernel on the GPU with four blocks of six threads each\n",
        "  kernel<<<4,6>>>();\n",
        "\n",
        "  // Check for CUDA errors\n",
        "  if(cudaDeviceSynchronize() != cudaSuccess) {\n",
        "    fprintf(stderr, \"CUDA Error: %s\\n\", cudaGetErrorString(cudaPeekAtLastError()));\n",
        "  }\n",
        "  return 0;\n",
        "}"
      ],
      "metadata": {
        "colab": {
          "base_uri": "https://localhost:8080/"
        },
        "id": "eKhIVZ2Ckdyb",
        "outputId": "114935ce-8876-4925-9506-0964b81583e0"
      },
      "execution_count": null,
      "outputs": [
        {
          "output_type": "stream",
          "name": "stdout",
          "text": [
            "Hello from block 2 thread 0\n",
            "Hello from block 2 thread 1\n",
            "Hello from block 2 thread 2\n",
            "Hello from block 2 thread 3\n",
            "Hello from block 2 thread 4\n",
            "Hello from block 2 thread 5\n",
            "Hello from block 0 thread 0\n",
            "Hello from block 0 thread 1\n",
            "Hello from block 0 thread 2\n",
            "Hello from block 0 thread 3\n",
            "Hello from block 0 thread 4\n",
            "Hello from block 0 thread 5\n",
            "Hello from block 3 thread 0\n",
            "Hello from block 3 thread 1\n",
            "Hello from block 3 thread 2\n",
            "Hello from block 3 thread 3\n",
            "Hello from block 3 thread 4\n",
            "Hello from block 3 thread 5\n",
            "Hello from block 1 thread 0\n",
            "Hello from block 1 thread 1\n",
            "Hello from block 1 thread 2\n",
            "Hello from block 1 thread 3\n",
            "Hello from block 1 thread 4\n",
            "Hello from block 1 thread 5\n",
            "\n"
          ]
        }
      ]
    },
    {
      "cell_type": "markdown",
      "source": [
        "### Example 3"
      ],
      "metadata": {
        "id": "gDACDMfTCDs5"
      }
    },
    {
      "cell_type": "code",
      "source": [
        "%%cu\n",
        "\n",
        "#include <stdint.h>\n",
        "#include <stdio.h>\n",
        "\n",
        "#define N 32\n",
        "#define THREADS_PER_BLOCK 32\n",
        "\n",
        "__global__ void saxpy(float a, float* x, float* y) {\n",
        "  // Which index of the array should this thread use?\n",
        "  size_t index = 20;\n",
        "\n",
        "  // Compute a times x plus y for a specific index\n",
        "  y[index] = a * x[index] + y[index];\n",
        "}\n",
        "\n",
        "int main() {\n",
        "  // Allocate arrays for X and Y on the CPU. This memory is only usable on the CPU\n",
        "  float* cpu_x = (float*)malloc(sizeof(float) * N);\n",
        "  float* cpu_y = (float*)malloc(sizeof(float) * N);\n",
        "\n",
        "  // Initialize X and Y\n",
        "  int i;\n",
        "  for(i=0; i<N; i++) {\n",
        "    cpu_x[i] = (float)i;\n",
        "    cpu_y[i] = 0.0;\n",
        "  }\n",
        "\n",
        "  // The gpu_x and gpu_y pointers will only be usable on the GPU (which uses separate memory)\n",
        "  float* gpu_x;\n",
        "  float* gpu_y;\n",
        "\n",
        "  // Allocate space for the x array on the GPU\n",
        "  if(cudaMalloc(&gpu_x, sizeof(float) * N) != cudaSuccess) {\n",
        "    fprintf(stderr, \"Failed to allocate X array on GPU\\n\");\n",
        "    exit(2);\n",
        "  }\n",
        "\n",
        "  // Allocate space for the y array on the GPU\n",
        "  if(cudaMalloc(&gpu_y, sizeof(float) * N) != cudaSuccess) {\n",
        "    fprintf(stderr, \"Failed to allocate Y array on GPU\\n\");\n",
        "    exit(2);\n",
        "  }\n",
        "\n",
        "  // Copy the cpu's x array to the gpu with cudaMemcpy\n",
        "  if(cudaMemcpy(gpu_x, cpu_x, sizeof(float) * N, cudaMemcpyHostToDevice) != cudaSuccess) {\n",
        "    fprintf(stderr, \"Failed to copy X to the GPU\\n\");\n",
        "  }\n",
        "\n",
        "  // Copy the cpu's y array to the gpu with cudaMemcpy\n",
        "  if(cudaMemcpy(gpu_y, cpu_y, sizeof(float) * N, cudaMemcpyHostToDevice) != cudaSuccess) {\n",
        "    fprintf(stderr, \"Failed to copy Y to the GPU\\n\");\n",
        "  }\n",
        "\n",
        "  // Calculate the number of blocks to run, rounding up to include all threads\n",
        "  size_t blocks = (N + THREADS_PER_BLOCK - 1) / THREADS_PER_BLOCK;\n",
        "\n",
        "  // Run the saxpy kernel\n",
        "  saxpy<<<blocks, THREADS_PER_BLOCK>>>(0.5, gpu_x, gpu_y);\n",
        "\n",
        "  // Wait for the kernel to finish\n",
        "  if(cudaDeviceSynchronize() != cudaSuccess) {\n",
        "    fprintf(stderr, \"CUDA Error: %s\\n\", cudaGetErrorString(cudaPeekAtLastError()));\n",
        "  }\n",
        "\n",
        "  // Copy the y array back from the gpu to the cpu\n",
        "  if(cudaMemcpy(cpu_y, gpu_y, sizeof(float) * N, cudaMemcpyDeviceToHost) != cudaSuccess) {\n",
        "    fprintf(stderr, \"Failed to copy Y from the GPU\\n\");\n",
        "  }\n",
        "\n",
        "  // Print the updated y array\n",
        "  for(i=0; i<N; i++) {\n",
        "    printf(\"%d: %f\\n\", i, cpu_y[i]);\n",
        "  }\n",
        "\n",
        "  cudaFree(gpu_x);\n",
        "  cudaFree(gpu_y);\n",
        "  free(cpu_x);\n",
        "  free(cpu_y);\n",
        "\n",
        "  return 0;\n",
        "}\n"
      ],
      "metadata": {
        "colab": {
          "base_uri": "https://localhost:8080/"
        },
        "id": "kKAZmeMekgWp",
        "outputId": "d36ceeb6-47b9-4dac-92be-a9e9a265d17c"
      },
      "execution_count": null,
      "outputs": [
        {
          "output_type": "stream",
          "name": "stdout",
          "text": [
            "0: 0.000000\n",
            "1: 0.000000\n",
            "2: 0.000000\n",
            "3: 0.000000\n",
            "4: 0.000000\n",
            "5: 0.000000\n",
            "6: 0.000000\n",
            "7: 0.000000\n",
            "8: 0.000000\n",
            "9: 0.000000\n",
            "10: 0.000000\n",
            "11: 0.000000\n",
            "12: 0.000000\n",
            "13: 0.000000\n",
            "14: 0.000000\n",
            "15: 0.000000\n",
            "16: 0.000000\n",
            "17: 0.000000\n",
            "18: 0.000000\n",
            "19: 0.000000\n",
            "20: 10.000000\n",
            "21: 0.000000\n",
            "22: 0.000000\n",
            "23: 0.000000\n",
            "24: 0.000000\n",
            "25: 0.000000\n",
            "26: 0.000000\n",
            "27: 0.000000\n",
            "28: 0.000000\n",
            "29: 0.000000\n",
            "30: 0.000000\n",
            "31: 0.000000\n",
            "\n"
          ]
        }
      ]
    },
    {
      "cell_type": "code",
      "source": [
        "def add(a):\n",
        "  assert a>10, \"x should be greater than 5\"\n",
        "  print(\"a>10de\")\n",
        "\n",
        "try:\n",
        "  add(8)\n",
        "except AssertionError as e:\n",
        "    print(f\"AssertionError: {e}\")\n",
        "    x=12\n",
        "    print(\"x:\",x)\n"
      ],
      "metadata": {
        "colab": {
          "base_uri": "https://localhost:8080/"
        },
        "id": "ubYRbDPE3wtT",
        "outputId": "a62c828d-6747-47f9-f025-846e4333ec57"
      },
      "execution_count": null,
      "outputs": [
        {
          "output_type": "stream",
          "name": "stdout",
          "text": [
            "AssertionError: x should be greater than 5\n",
            "x: 12\n"
          ]
        }
      ]
    },
    {
      "cell_type": "code",
      "source": [
        "list=['a','b']\n",
        "list.append('a')\n",
        "print(list)"
      ],
      "metadata": {
        "colab": {
          "base_uri": "https://localhost:8080/"
        },
        "id": "TGwHXwUr9wAy",
        "outputId": "ece12fd1-1ad5-4ac1-81f1-5367bee7b5b0"
      },
      "execution_count": null,
      "outputs": [
        {
          "output_type": "stream",
          "name": "stdout",
          "text": [
            "['a', 'b', 'a']\n"
          ]
        }
      ]
    },
    {
      "cell_type": "code",
      "source": [
        "import re\n",
        "\n",
        "def contains_cuda_expression(text):\n",
        "    cuda_patterns = [\n",
        "        r'blockIdx\\.x\\s*\\*\\s*blockDim\\.x\\S\\+\\s*threadIdx\\.x',\n",
        "        r'threadIdx\\.x\\S\\+\\s*blockIdx\\.x\\s*\\*\\s*blockDim\\.x',\n",
        "        r'blockIdx\\.y\\s*\\*\\s*blockDim\\.y\\s*\\+\\s*threadIdx\\.y',\n",
        "        r'threadIdx\\.y\\s*\\+\\s*blockIdx\\.y\\s*\\*\\s*blockDim\\.y',\n",
        "        r'blockIdx\\.z\\s*\\*\\s*blockDim\\.z\\s*\\+\\s*threadIdx\\.z',\n",
        "        r'threadIdx\\.z\\s*\\+\\s*blockIdx\\.z\\s*\\*\\s*blockDim\\.z'\n",
        "    ]\n",
        "\n",
        "    for pattern in cuda_patterns:\n",
        "        if re.search(pattern, text):\n",
        "            return True\n",
        "    return False\n",
        "\n",
        "# 测试\n",
        "input_string = \"threadIdx.x+b+blockIdx.x* blockDim.x\"\n",
        "if contains_cuda_expression(input_string):\n",
        "    print(\"String contains CUDA expression.\")\n",
        "else:\n",
        "    print(\"String does not contain CUDA expression.\")\n",
        "\n"
      ],
      "metadata": {
        "colab": {
          "base_uri": "https://localhost:8080/"
        },
        "id": "dRMqx9-4_hG7",
        "outputId": "1597a859-ce87-49b5-dfed-07e37db49703"
      },
      "execution_count": null,
      "outputs": [
        {
          "output_type": "stream",
          "name": "stdout",
          "text": [
            "String does not contain CUDA expression.\n"
          ]
        }
      ]
    },
    {
      "cell_type": "code",
      "source": [
        "import re\n",
        "\n",
        "def contains_cuda_expression(text):\n",
        "    cuda_patterns = [\n",
        "        r'\\b(blockIdx\\.x|threadIdx\\.x|blockIdx\\.y|threadIdx\\.y|blockIdx\\.z|threadIdx\\.z)\\b\\s*[\\*\\+]\\s*\\b(blockDim\\.x|threadIdx\\.x|blockDim\\.y|threadIdx\\.y|blockDim\\.z|threadIdx\\.z)\\b\\s*\\S*\\s*[\\+\\*]\\s*\\S*\\s*\\b(blockIdx\\.x|threadIdx\\.x|blockIdx\\.y|threadIdx\\.y|blockIdx\\.z|threadIdx\\.z)\\b',\n",
        "        r'\\b(threadIdx\\.x|blockIdx\\.x|threadIdx\\.y|blockIdx\\.y|threadIdx\\.z|blockIdx\\.z)\\b\\s*\\S*\\s*[\\+\\*]\\s*\\S*\\s*\\b(blockIdx\\.x|threadIdx\\.x|blockDim\\.x|threadIdx\\.y|blockDim\\.y|threadIdx\\.z|blockDim\\.z)\\b',\n",
        "        r'\\b(blockIdx\\.y|threadIdx\\.y|blockIdx\\.z|threadIdx\\.z)\\b\\s*[\\*\\+]\\s*\\b(blockDim\\.y|threadIdx\\.y|blockDim\\.z|threadIdx\\.z)\\b\\s*\\S*\\s*[\\+\\*]\\s*\\S*\\s*\\b(blockIdx\\.y|threadIdx\\.y|blockDim\\.y|threadIdx\\.z|blockDim\\.z)\\b'\n",
        "    ]\n",
        "\n",
        "    for pattern in cuda_patterns:\n",
        "        if re.search(pattern, text):\n",
        "            return True\n",
        "    return False\n",
        "\n",
        "# 测试\n",
        "input_string = \"blockIdx.x * blockDim.y + customVar + threadIdx.x\"\n",
        "if contains_cuda_expression(input_string):\n",
        "    print(\"String contains CUDA expression.\")\n",
        "else:\n",
        "    print(\"String does not contain CUDA expression.\")\n"
      ],
      "metadata": {
        "colab": {
          "base_uri": "https://localhost:8080/"
        },
        "id": "4TFA8N5oNThw",
        "outputId": "c821a959-f9fa-4896-9073-d0e3970e6907"
      },
      "execution_count": null,
      "outputs": [
        {
          "output_type": "stream",
          "name": "stdout",
          "text": [
            "String contains CUDA expression.\n"
          ]
        }
      ]
    },
    {
      "cell_type": "code",
      "source": [
        "import ast\n",
        "\n",
        "def contains_cuda_expression(code):\n",
        "    try:\n",
        "        tree = ast.parse(code)\n",
        "        for node in ast.walk(tree):\n",
        "            if isinstance(node, ast.Expr):\n",
        "                expression = ast.dump(node)\n",
        "                # 检查表达式是否匹配指定的 CUDA 表达式\n",
        "                if 'BinOp' in expression and 'Mult' in expression and 'Add' in expression:\n",
        "                    return True\n",
        "    except SyntaxError:\n",
        "        # 语法错误，字符串不是合法的 Python 代码\n",
        "        return False\n",
        "    return False\n",
        "\n",
        "# 测试\n",
        "cuda_expression = 'blockIdx.x*blockDim.x+threadIdx.x'\n",
        "test_strings = [\n",
        "    cuda_expression,\n",
        "    'threadIdx.x + blockIdx.x * blockDim.x',\n",
        "    'blockIdx.y*blockDim.y+threadIdx.y',\n",
        "    'threadIdx.y + blockIdx.x * blockDim.y',\n",
        "    'blockIdx.z*blockDim.z+threadIdx.z',\n",
        "    'threadIdx.z + blockIdx.z * blockDim.z',\n",
        "    'blockDim.x * blockIdx.x + threadIdx.x',  # 交换位置\n",
        "    'threadIdx.x + customVar + blockIdx.y * blockDim.y',  # 插入其他字符\n",
        "]\n",
        "\n",
        "for test_string in test_strings:\n",
        "    if contains_cuda_expression(test_string):\n",
        "        print(f\"'{test_string}' matches the CUDA expression.\")\n",
        "    else:\n",
        "        print(f\"'{test_string}' does not match the CUDA expression.\")\n"
      ],
      "metadata": {
        "colab": {
          "base_uri": "https://localhost:8080/"
        },
        "id": "69G8gphvZZw4",
        "outputId": "dfbe7823-5c6a-400d-a80c-99f9a6036f9a"
      },
      "execution_count": null,
      "outputs": [
        {
          "output_type": "stream",
          "name": "stdout",
          "text": [
            "'blockIdx.x*blockDim.x+threadIdx.x' matches the CUDA expression.\n",
            "'threadIdx.x + blockIdx.x * blockDim.x' matches the CUDA expression.\n",
            "'blockIdx.y*blockDim.y+threadIdx.y' matches the CUDA expression.\n",
            "'threadIdx.y + blockIdx.x * blockDim.y' matches the CUDA expression.\n",
            "'blockIdx.z*blockDim.z+threadIdx.z' matches the CUDA expression.\n",
            "'threadIdx.z + blockIdx.z * blockDim.z' matches the CUDA expression.\n",
            "'blockDim.x * blockIdx.x + threadIdx.x' matches the CUDA expression.\n",
            "'threadIdx.x + customVar + blockIdx.y * blockDim.y' matches the CUDA expression.\n"
          ]
        }
      ]
    },
    {
      "cell_type": "code",
      "source": [
        "def add(result):\n",
        "  for i in result:\n",
        "    if i>0:\n",
        "      return True\n",
        "    else:\n",
        "      return add(result[1:])\n",
        "  return False\n",
        "\n",
        "a=[-1,2,3]\n",
        "print(id(a))\n",
        "add(a)\n",
        "print(add(a))"
      ],
      "metadata": {
        "colab": {
          "base_uri": "https://localhost:8080/"
        },
        "id": "zJ8n27Oeq-vU",
        "outputId": "d2580984-febb-423e-e932-fc992cf18b1f"
      },
      "execution_count": null,
      "outputs": [
        {
          "output_type": "stream",
          "name": "stdout",
          "text": [
            "136382228738880\n",
            "True\n"
          ]
        }
      ]
    },
    {
      "cell_type": "code",
      "source": [
        "list=[True,True,False]\n",
        "print(any(list))"
      ],
      "metadata": {
        "colab": {
          "base_uri": "https://localhost:8080/"
        },
        "id": "GTe-jVELAK3J",
        "outputId": "92aa7610-34d5-40f7-e9a7-4ace354956ce"
      },
      "execution_count": null,
      "outputs": [
        {
          "output_type": "stream",
          "name": "stdout",
          "text": [
            "True\n"
          ]
        }
      ]
    },
    {
      "cell_type": "code",
      "source": [
        "from sklearn.feature_extraction.text import TfidfVectorizer\n",
        "from sklearn.metrics.pairwise import cosine_similarity\n",
        "\n",
        "# 示例文本\n",
        "text1 = \"This is the first document.\"\n",
        "text2 = \"This document is the second document.\"\n",
        "text3 = \"And this is the third one.\"\n",
        "text4 = \"Is this the first document?\"\n",
        "\n",
        "# 创建TfidfVectorizer对象，用于将文本转换为TF-IDF向量\n",
        "vectorizer = TfidfVectorizer()\n",
        "\n",
        "# 将文本向量化\n",
        "tfidf_matrix = vectorizer.fit_transform([text1, text2, text3, text4])\n",
        "\n",
        "# 计算余弦相似性\n",
        "cosine_sim = cosine_similarity(tfidf_matrix, tfidf_matrix)\n",
        "\n",
        "# 打印相似性矩阵\n",
        "print(\"相似性矩阵：\")\n",
        "print(cosine_sim)\n",
        "\n",
        "# 打印文本之间的相似性\n",
        "print(\"\\n文本之间的相似性：\")\n",
        "print(\"文本1与文本2的相似性:\", cosine_sim[0][1])\n",
        "print(\"文本1与文本3的相似性:\", cosine_sim[0][2])\n",
        "print(\"文本1与文本4的相似性:\", cosine_sim[0][3])"
      ],
      "metadata": {
        "colab": {
          "base_uri": "https://localhost:8080/"
        },
        "id": "pcG6DyvfDStX",
        "outputId": "221294e4-8ece-4333-db43-510f32e22201"
      },
      "execution_count": null,
      "outputs": [
        {
          "output_type": "stream",
          "name": "stdout",
          "text": [
            "相似性矩阵：\n",
            "[[1.         0.64692568 0.30777187 1.        ]\n",
            " [0.64692568 1.         0.22523955 0.64692568]\n",
            " [0.30777187 0.22523955 1.         0.30777187]\n",
            " [1.         0.64692568 0.30777187 1.        ]]\n",
            "\n",
            "文本之间的相似性：\n",
            "文本1与文本2的相似性: 0.6469256761082494\n",
            "文本1与文本3的相似性: 0.30777186787740496\n",
            "文本1与文本4的相似性: 1.0\n"
          ]
        }
      ]
    },
    {
      "cell_type": "code",
      "source": [
        "import re\n",
        "\n",
        "def is_cuda_expression(expression):\n",
        "    # 使用正则表达式匹配给定的 CUDA 表达式模式\n",
        "    pattern = re.compile(r'^(blockIdx\\.y\\*blockDim\\.y\\+threadIdx\\.y)\\s*$'\n",
        "                         r'|^(blockIdx\\.x\\*blockDim\\.x\\+threadIdx\\.x)\\s*$'\n",
        "                         r'|^(threadIdx\\.y\\+blockIdx\\.y\\*blockDim\\.y)\\s*$'\n",
        "                         r'|^(threadIdx\\.x\\+blockIdx\\.x\\*blockDim\\.x)\\s*$')\n",
        "    return bool(pattern.match(expression))\n",
        "\n",
        "# 示例用法\n",
        "expression1 = \"blockIdx.y*blockDim.y+threadIdx.y\"\n",
        "expression2 = \" blockIdx.x  * blockDim.x + threadIdx.x \"\n",
        "expression3 = \" threadIdx.y  + blockIdx.y * blockDim.y \"\n",
        "expression4 = \" threadIdx.x  + blockIdx.x * blockDim.x \"\n",
        "\n",
        "print(is_cuda_expression(expression1.replace(\" \", \"\")))  # True\n",
        "print(is_cuda_expression(expression2.replace(\" \", \"\")))  # True\n",
        "print(is_cuda_expression(expression3.replace(\" \", \"\")))  # True\n",
        "print(is_cuda_expression(expression4.replace(\" \", \"\")))  # True\n",
        "original_string = \"   This is a string with spaces.   \"\n",
        "no_spaces_string = original_string.replace(\" \", \"\")\n",
        "print(no_spaces_string)\n"
      ],
      "metadata": {
        "colab": {
          "base_uri": "https://localhost:8080/"
        },
        "id": "H_-6U5ApeoDS",
        "outputId": "cf013cae-af7f-4477-ac88-89fdd3464327"
      },
      "execution_count": null,
      "outputs": [
        {
          "output_type": "stream",
          "name": "stdout",
          "text": [
            "True\n",
            "True\n",
            "True\n",
            "True\n",
            "Thisisastringwithspaces.\n"
          ]
        }
      ]
    },
    {
      "cell_type": "code",
      "source": [
        "def a(x):\n",
        "  x.append(True)\n",
        "  def b(x):\n",
        "    x.append(False)\n",
        "  print(\"x:\",x)\n",
        "\n",
        "x=[]\n",
        "a(x)\n",
        "print(x)\n",
        "print(len(x))"
      ],
      "metadata": {
        "colab": {
          "base_uri": "https://localhost:8080/"
        },
        "id": "KNYjzQxRJfmx",
        "outputId": "4b1f3c6d-611a-46ed-c88e-3569a55eef92"
      },
      "execution_count": null,
      "outputs": [
        {
          "output_type": "stream",
          "name": "stdout",
          "text": [
            "x: [True]\n",
            "[True]\n",
            "1\n"
          ]
        }
      ]
    },
    {
      "cell_type": "code",
      "source": [
        "a=3\n",
        "while a>1:\n",
        "  print(\"a:\",a)\n",
        "  a=a-1\n",
        "print(\"a:\",a)"
      ],
      "metadata": {
        "colab": {
          "base_uri": "https://localhost:8080/"
        },
        "id": "sdBqr2vvexQO",
        "outputId": "4cc03499-8bfa-41e7-f51a-8f7ad8d1343d"
      },
      "execution_count": null,
      "outputs": [
        {
          "output_type": "stream",
          "name": "stdout",
          "text": [
            "a: 3\n",
            "a: 2\n",
            "a: 1\n"
          ]
        }
      ]
    },
    {
      "cell_type": "code",
      "source": [
        "# 定义字典\n",
        "x = {'b': [2,3,4], 'c': [3,5]}\n",
        "\n",
        "# 使用 get() 方法获取键 'a' 对应的值，如果不存在则返回 []\n",
        "b = x.get('b', [])\n",
        "\n",
        "print(b)  # 输出：[]\n"
      ],
      "metadata": {
        "colab": {
          "base_uri": "https://localhost:8080/"
        },
        "id": "ZByPs2ruc6n4",
        "outputId": "9e86207b-7cfa-4266-8eb6-9567492d42e6"
      },
      "execution_count": null,
      "outputs": [
        {
          "output_type": "stream",
          "name": "stdout",
          "text": [
            "[2, 3, 4]\n"
          ]
        }
      ]
    },
    {
      "cell_type": "code",
      "source": [
        "def a(x):\n",
        "  x[\"b\"]=3\n",
        "  print(\"x:\",x)\n",
        "\n",
        "x={\"a\":1,\"b\":2}\n",
        "a(x)\n",
        "print(x)"
      ],
      "metadata": {
        "colab": {
          "base_uri": "https://localhost:8080/"
        },
        "id": "9TH1iwOEncL5",
        "outputId": "93911f61-8a4d-48a5-c66e-7eb3d23aaf41"
      },
      "execution_count": null,
      "outputs": [
        {
          "output_type": "stream",
          "name": "stdout",
          "text": [
            "x: {'a': 1, 'b': 3}\n",
            "{'a': 1, 'b': 3}\n"
          ]
        }
      ]
    },
    {
      "cell_type": "code",
      "source": [
        "import ast\n",
        "\n",
        "def extract_features(code):\n",
        "    # 解析代码生成抽象语法树\n",
        "    tree = ast.parse(code)\n",
        "\n",
        "    # 初始化特征向量\n",
        "    features = []\n",
        "\n",
        "    # 遍历抽象语法树节点\n",
        "    for node in ast.walk(tree):\n",
        "        # 提取节点类型\n",
        "        node_type = type(node).__name__\n",
        "        features.append(node_type)\n",
        "\n",
        "        # 如果节点是标识符，提取其名称\n",
        "        if isinstance(node, ast.Name):\n",
        "            features.append(node.id)\n",
        "\n",
        "        # 如果节点是常量，提取其值\n",
        "        elif isinstance(node, ast.Constant):\n",
        "            features.append(node.value)\n",
        "\n",
        "    return features\n",
        "\n",
        "# 示例代码\n",
        "code = \"\"\"\n",
        "def add(a, b):\n",
        "    return a + b\n",
        "\"\"\"\n",
        "\n",
        "# 提取特征\n",
        "code_features = extract_features(code)\n",
        "print(\"代码特征:\", code_features)\n"
      ],
      "metadata": {
        "id": "uQMnh9ZL_KeG",
        "outputId": "82bf974d-244e-4241-e33b-30a5eacd9896",
        "colab": {
          "base_uri": "https://localhost:8080/"
        }
      },
      "execution_count": null,
      "outputs": [
        {
          "output_type": "stream",
          "name": "stdout",
          "text": [
            "代码特征: ['Module', 'FunctionDef', 'arguments', 'Return', 'arg', 'arg', 'BinOp', 'Name', 'a', 'Add', 'Name', 'b', 'Load', 'Load']\n"
          ]
        }
      ]
    },
    {
      "cell_type": "code",
      "source": [
        "!pip install Levenshtein"
      ],
      "metadata": {
        "colab": {
          "base_uri": "https://localhost:8080/"
        },
        "id": "X3UqltVF8oql",
        "outputId": "93f75682-3510-4efd-99c5-7cfb6292444b"
      },
      "execution_count": null,
      "outputs": [
        {
          "output_type": "stream",
          "name": "stdout",
          "text": [
            "Collecting Levenshtein\n",
            "  Downloading Levenshtein-0.25.1-cp310-cp310-manylinux_2_17_x86_64.manylinux2014_x86_64.whl (177 kB)\n",
            "\u001b[2K     \u001b[90m━━━━━━━━━━━━━━━━━━━━━━━━━━━━━━━━━━━━━━━━\u001b[0m \u001b[32m177.4/177.4 kB\u001b[0m \u001b[31m3.1 MB/s\u001b[0m eta \u001b[36m0:00:00\u001b[0m\n",
            "\u001b[?25hCollecting rapidfuzz<4.0.0,>=3.8.0 (from Levenshtein)\n",
            "  Downloading rapidfuzz-3.8.1-cp310-cp310-manylinux_2_17_x86_64.manylinux2014_x86_64.whl (3.4 MB)\n",
            "\u001b[2K     \u001b[90m━━━━━━━━━━━━━━━━━━━━━━━━━━━━━━━━━━━━━━━━\u001b[0m \u001b[32m3.4/3.4 MB\u001b[0m \u001b[31m16.6 MB/s\u001b[0m eta \u001b[36m0:00:00\u001b[0m\n",
            "\u001b[?25hInstalling collected packages: rapidfuzz, Levenshtein\n",
            "Successfully installed Levenshtein-0.25.1 rapidfuzz-3.8.1\n"
          ]
        }
      ]
    },
    {
      "cell_type": "code",
      "source": [
        "import Levenshtein\n",
        "\n",
        "def calculate_similarity(code1, code2):\n",
        "    distance = Levenshtein.distance(code1, code2)\n",
        "    print(distance)\n",
        "    max_length = max(len(code1), len(code2))\n",
        "    print(max_length)\n",
        "    similarity = 1 - (distance / max_length)\n",
        "    return similarity\n",
        "\n",
        "# 两个示例代码片段\n",
        "code1 = \"\"\"\n",
        "def add(a, b):\n",
        "    return a + b\n",
        "\"\"\"\n",
        "\n",
        "code2 = \"\"\"\n",
        "def add(x, y):\n",
        "    return x + y\n",
        "\"\"\"\n",
        "\n",
        "# 计算代码相似度\n",
        "similarity = calculate_similarity(code1, code2)\n",
        "print(\"代码相似度:\", similarity)"
      ],
      "metadata": {
        "colab": {
          "base_uri": "https://localhost:8080/"
        },
        "id": "a7bKVlilHopY",
        "outputId": "8885cad3-0a11-4055-b0da-53dde42772b2"
      },
      "execution_count": null,
      "outputs": [
        {
          "output_type": "stream",
          "name": "stdout",
          "text": [
            "4\n",
            "33\n",
            "代码相似度: 0.8787878787878788\n"
          ]
        }
      ]
    },
    {
      "cell_type": "code",
      "source": [
        "import networkx as nx\n",
        "import matplotlib.pyplot as plt\n",
        "\n",
        "# 创建一个包含6个节点的环形图\n",
        "G1 = nx.cycle_graph(6)\n",
        "\n",
        "# 创建一个包含7个节点的轮形图\n",
        "G2 = nx.wheel_graph(7)\n",
        "\n",
        "# 绘制图形\n",
        "plt.figure(figsize=(10, 5))\n",
        "\n",
        "plt.subplot(1, 2, 1)\n",
        "nx.draw(G1, with_labels=True, node_color='skyblue', node_size=1000, font_size=12, font_weight='bold')\n",
        "plt.title('Cycle Graph (6 nodes)')\n",
        "\n",
        "plt.subplot(1, 2, 2)\n",
        "nx.draw(G2, with_labels=True, node_color='lightgreen', node_size=1000, font_size=12, font_weight='bold')\n",
        "plt.title('Wheel Graph (7 nodes)')\n",
        "\n",
        "plt.tight_layout()\n",
        "plt.show()\n"
      ],
      "metadata": {
        "colab": {
          "base_uri": "https://localhost:8080/",
          "height": 507
        },
        "id": "xCTtGivjl3DK",
        "outputId": "402c55ef-8c18-49b9-d363-9df72ee5f0d7"
      },
      "execution_count": null,
      "outputs": [
        {
          "output_type": "display_data",
          "data": {
            "text/plain": [
              "<Figure size 1000x500 with 2 Axes>"
            ],
            "image/png": "[encoded data removed]"
          },
          "metadata": {}
        }
      ]
    },
    {
      "cell_type": "code",
      "source": [
        "import networkx as nx\n",
        "import matplotlib.pyplot as plt\n",
        "\n",
        "# 创建一个有向图\n",
        "G1 = nx.DiGraph()\n",
        "G1.add_edges_from([(1, 2), (2, 3), (3, 4), (4, 5), (5, 6), (6, 1)])\n",
        "\n",
        "# 创建另一个有向图\n",
        "G2 = nx.DiGraph()\n",
        "G2.add_edges_from([(1, 2), (2, 3), (3, 4), (4, 5), (5, 6), (6, 1), (1, 3), (3, 5), (5, 2), (2, 4), (4, 6), (6, 1)])\n",
        "print(nx.graph_edit_distance(G1, G2))\n",
        "\n",
        "# 绘制图形\n",
        "plt.figure(figsize=(10, 5))\n",
        "\n",
        "plt.subplot(1, 2, 1)\n",
        "nx.draw(G1, with_labels=True, node_color='skyblue', node_size=1000, font_size=12, font_weight='bold', arrows=True)\n",
        "plt.title('Directed Graph 1')\n",
        "\n",
        "plt.subplot(1, 2, 2)\n",
        "nx.draw(G2, with_labels=True, node_color='lightgreen', node_size=1000, font_size=12, font_weight='bold', arrows=True)\n",
        "plt.title('Directed Graph 2')\n",
        "\n",
        "plt.tight_layout()\n",
        "plt.show()\n"
      ],
      "metadata": {
        "colab": {
          "base_uri": "https://localhost:8080/",
          "height": 524
        },
        "id": "7gycWFP1mrUT",
        "outputId": "e07ca6ed-4605-45ea-ee98-80d1bb7bcfa9"
      },
      "execution_count": null,
      "outputs": [
        {
          "output_type": "stream",
          "name": "stdout",
          "text": [
            "5.0\n"
          ]
        },
        {
          "output_type": "display_data",
          "data": {
            "text/plain": [
              "<Figure size 1000x500 with 2 Axes>"
            ],
            "image/png": "[encoded data removed]"
          },
          "metadata": {}
        }
      ]
    },
    {
      "cell_type": "code",
      "source": [
        "import networkx as nx\n",
        "import matplotlib.pyplot as plt\n",
        "\n",
        "# 创建一个有向图\n",
        "G1 = nx.DiGraph()\n",
        "G1.add_edges_from([(1, 2), (1, 3), (2, 3)])\n",
        "\n",
        "# 创建另一个有向图\n",
        "G2 = nx.DiGraph()\n",
        "G2.add_edges_from([(1, 2), (2, 4), (1, 4)])\n",
        "print(nx.graph_edit_distance(G1, G2))\n",
        "num_edges = G1.number_of_edges()\n",
        "num = G2.number_of_edges()\n",
        "\n",
        "print(\"有向图中的边数为:\", num_edges,num)\n",
        "\n",
        "\n",
        "# 绘制图形\n",
        "plt.figure(figsize=(10, 5))\n",
        "\n",
        "plt.subplot(1, 2, 1)\n",
        "nx.draw(G1, with_labels=True, node_color='skyblue', node_size=1000, font_size=12, font_weight='bold', arrows=True)\n",
        "plt.title('Directed Graph 1')\n",
        "\n",
        "plt.subplot(1, 2, 2)\n",
        "nx.draw(G2, with_labels=True, node_color='lightgreen', node_size=1000, font_size=12, font_weight='bold', arrows=True)\n",
        "plt.title('Directed Graph 2')\n",
        "\n",
        "plt.tight_layout()\n",
        "plt.show()\n"
      ],
      "metadata": {
        "colab": {
          "base_uri": "https://localhost:8080/",
          "height": 542
        },
        "id": "8XVQNEmHYYYC",
        "outputId": "0ddd7880-63d6-4464-c665-e06dfe2d9d38"
      },
      "execution_count": null,
      "outputs": [
        {
          "output_type": "stream",
          "name": "stdout",
          "text": [
            "0.0\n",
            "有向图中的边数为: 3 3\n"
          ]
        },
        {
          "output_type": "display_data",
          "data": {
            "text/plain": [
              "<Figure size 1000x500 with 2 Axes>"
            ],
            "image/png": "[encoded data removed]"
          },
          "metadata": {}
        }
      ]
    },
    {
      "cell_type": "code",
      "source": [
        "pip install vizro"
      ],
      "metadata": {
        "colab": {
          "base_uri": "https://localhost:8080/"
        },
        "id": "3bypVj7DppEp",
        "outputId": "687c5bc2-e88d-44eb-aafb-1817fd259ff1"
      },
      "execution_count": null,
      "outputs": [
        {
          "output_type": "stream",
          "name": "stdout",
          "text": [
            "Collecting vizro\n",
            "  Downloading vizro-0.1.15-py3-none-any.whl (742 kB)\n",
            "\u001b[2K     \u001b[90m━━━━━━━━━━━━━━━━━━━━━━━━━━━━━━━━━━━━━━━━\u001b[0m \u001b[32m742.2/742.2 kB\u001b[0m \u001b[31m8.0 MB/s\u001b[0m eta \u001b[36m0:00:00\u001b[0m\n",
            "\u001b[?25hCollecting dash!=2.16.0,>=2.14.1 (from vizro)\n",
            "  Downloading dash-2.16.1-py3-none-any.whl (10.2 MB)\n",
            "\u001b[2K     \u001b[90m━━━━━━━━━━━━━━━━━━━━━━━━━━━━━━━━━━━━━━━━\u001b[0m \u001b[32m10.2/10.2 MB\u001b[0m \u001b[31m28.4 MB/s\u001b[0m eta \u001b[36m0:00:00\u001b[0m\n",
            "\u001b[?25hCollecting dash-ag-grid>=31.0.0 (from vizro)\n",
            "  Downloading dash_ag_grid-31.0.1-py3-none-any.whl (4.9 MB)\n",
            "\u001b[2K     \u001b[90m━━━━━━━━━━━━━━━━━━━━━━━━━━━━━━━━━━━━━━━━\u001b[0m \u001b[32m4.9/4.9 MB\u001b[0m \u001b[31m46.3 MB/s\u001b[0m eta \u001b[36m0:00:00\u001b[0m\n",
            "\u001b[?25hCollecting dash-bootstrap-components (from vizro)\n",
            "  Downloading dash_bootstrap_components-1.6.0-py3-none-any.whl (222 kB)\n",
            "\u001b[2K     \u001b[90m━━━━━━━━━━━━━━━━━━━━━━━━━━━━━━━━━━━━━━━━\u001b[0m \u001b[32m222.5/222.5 kB\u001b[0m \u001b[31m10.9 MB/s\u001b[0m eta \u001b[36m0:00:00\u001b[0m\n",
            "\u001b[?25hCollecting dash-mantine-components<0.13.0 (from vizro)\n",
            "  Downloading dash_mantine_components-0.12.1-py3-none-any.whl (500 kB)\n",
            "\u001b[2K     \u001b[90m━━━━━━━━━━━━━━━━━━━━━━━━━━━━━━━━━━━━━━━━\u001b[0m \u001b[32m500.8/500.8 kB\u001b[0m \u001b[31m20.0 MB/s\u001b[0m eta \u001b[36m0:00:00\u001b[0m\n",
            "\u001b[?25hCollecting flask-caching>=2 (from vizro)\n",
            "  Downloading Flask_Caching-2.2.0-py3-none-any.whl (28 kB)\n",
            "Requirement already satisfied: numpy>=1.22.2 in /usr/local/lib/python3.10/dist-packages (from vizro) (1.25.2)\n",
            "Requirement already satisfied: pandas in /usr/local/lib/python3.10/dist-packages (from vizro) (2.0.3)\n",
            "Requirement already satisfied: pydantic>=1.10.13 in /usr/local/lib/python3.10/dist-packages (from vizro) (2.7.0)\n",
            "Requirement already satisfied: setuptools>=65.5.1 in /usr/local/lib/python3.10/dist-packages (from vizro) (67.7.2)\n",
            "Requirement already satisfied: werkzeug>=3.0.1 in /usr/local/lib/python3.10/dist-packages (from vizro) (3.0.2)\n",
            "Requirement already satisfied: wrapt>=1 in /usr/local/lib/python3.10/dist-packages (from vizro) (1.14.1)\n",
            "Requirement already satisfied: Flask<3.1,>=1.0.4 in /usr/local/lib/python3.10/dist-packages (from dash!=2.16.0,>=2.14.1->vizro) (2.2.5)\n",
            "Requirement already satisfied: plotly>=5.0.0 in /usr/local/lib/python3.10/dist-packages (from dash!=2.16.0,>=2.14.1->vizro) (5.15.0)\n",
            "Collecting dash-html-components==2.0.0 (from dash!=2.16.0,>=2.14.1->vizro)\n",
            "  Downloading dash_html_components-2.0.0-py3-none-any.whl (4.1 kB)\n",
            "Collecting dash-core-components==2.0.0 (from dash!=2.16.0,>=2.14.1->vizro)\n",
            "  Downloading dash_core_components-2.0.0-py3-none-any.whl (3.8 kB)\n",
            "Collecting dash-table==5.0.0 (from dash!=2.16.0,>=2.14.1->vizro)\n",
            "  Downloading dash_table-5.0.0-py3-none-any.whl (3.9 kB)\n",
            "Requirement already satisfied: importlib-metadata in /usr/local/lib/python3.10/dist-packages (from dash!=2.16.0,>=2.14.1->vizro) (7.1.0)\n",
            "Requirement already satisfied: typing-extensions>=4.1.1 in /usr/local/lib/python3.10/dist-packages (from dash!=2.16.0,>=2.14.1->vizro) (4.11.0)\n",
            "Requirement already satisfied: requests in /usr/local/lib/python3.10/dist-packages (from dash!=2.16.0,>=2.14.1->vizro) (2.31.0)\n",
            "Collecting retrying (from dash!=2.16.0,>=2.14.1->vizro)\n",
            "  Downloading retrying-1.3.4-py3-none-any.whl (11 kB)\n",
            "Requirement already satisfied: nest-asyncio in /usr/local/lib/python3.10/dist-packages (from dash!=2.16.0,>=2.14.1->vizro) (1.6.0)\n",
            "Collecting cachelib<0.10.0,>=0.9.0 (from flask-caching>=2->vizro)\n",
            "  Downloading cachelib-0.9.0-py3-none-any.whl (15 kB)\n",
            "Requirement already satisfied: annotated-types>=0.4.0 in /usr/local/lib/python3.10/dist-packages (from pydantic>=1.10.13->vizro) (0.6.0)\n",
            "Requirement already satisfied: pydantic-core==2.18.1 in /usr/local/lib/python3.10/dist-packages (from pydantic>=1.10.13->vizro) (2.18.1)\n",
            "Requirement already satisfied: MarkupSafe>=2.1.1 in /usr/local/lib/python3.10/dist-packages (from werkzeug>=3.0.1->vizro) (2.1.5)\n",
            "Requirement already satisfied: python-dateutil>=2.8.2 in /usr/local/lib/python3.10/dist-packages (from pandas->vizro) (2.8.2)\n",
            "Requirement already satisfied: pytz>=2020.1 in /usr/local/lib/python3.10/dist-packages (from pandas->vizro) (2023.4)\n",
            "Requirement already satisfied: tzdata>=2022.1 in /usr/local/lib/python3.10/dist-packages (from pandas->vizro) (2024.1)\n",
            "Requirement already satisfied: Jinja2>=3.0 in /usr/local/lib/python3.10/dist-packages (from Flask<3.1,>=1.0.4->dash!=2.16.0,>=2.14.1->vizro) (3.1.3)\n",
            "Requirement already satisfied: itsdangerous>=2.0 in /usr/local/lib/python3.10/dist-packages (from Flask<3.1,>=1.0.4->dash!=2.16.0,>=2.14.1->vizro) (2.2.0)\n",
            "Requirement already satisfied: click>=8.0 in /usr/local/lib/python3.10/dist-packages (from Flask<3.1,>=1.0.4->dash!=2.16.0,>=2.14.1->vizro) (8.1.7)\n",
            "Requirement already satisfied: tenacity>=6.2.0 in /usr/local/lib/python3.10/dist-packages (from plotly>=5.0.0->dash!=2.16.0,>=2.14.1->vizro) (8.2.3)\n",
            "Requirement already satisfied: packaging in /usr/local/lib/python3.10/dist-packages (from plotly>=5.0.0->dash!=2.16.0,>=2.14.1->vizro) (24.0)\n",
            "Requirement already satisfied: six>=1.5 in /usr/local/lib/python3.10/dist-packages (from python-dateutil>=2.8.2->pandas->vizro) (1.16.0)\n",
            "Requirement already satisfied: zipp>=0.5 in /usr/local/lib/python3.10/dist-packages (from importlib-metadata->dash!=2.16.0,>=2.14.1->vizro) (3.18.1)\n",
            "Requirement already satisfied: charset-normalizer<4,>=2 in /usr/local/lib/python3.10/dist-packages (from requests->dash!=2.16.0,>=2.14.1->vizro) (3.3.2)\n",
            "Requirement already satisfied: idna<4,>=2.5 in /usr/local/lib/python3.10/dist-packages (from requests->dash!=2.16.0,>=2.14.1->vizro) (3.7)\n",
            "Requirement already satisfied: urllib3<3,>=1.21.1 in /usr/local/lib/python3.10/dist-packages (from requests->dash!=2.16.0,>=2.14.1->vizro) (2.0.7)\n",
            "Requirement already satisfied: certifi>=2017.4.17 in /usr/local/lib/python3.10/dist-packages (from requests->dash!=2.16.0,>=2.14.1->vizro) (2024.2.2)\n",
            "Installing collected packages: dash-table, dash-mantine-components, dash-html-components, dash-core-components, retrying, cachelib, flask-caching, dash, dash-bootstrap-components, dash-ag-grid, vizro\n",
            "Successfully installed cachelib-0.9.0 dash-2.16.1 dash-ag-grid-31.0.1 dash-bootstrap-components-1.6.0 dash-core-components-2.0.0 dash-html-components-2.0.0 dash-mantine-components-0.12.1 dash-table-5.0.0 flask-caching-2.2.0 retrying-1.3.4 vizro-0.1.15\n"
          ]
        }
      ]
    },
    {
      "cell_type": "code",
      "source": [
        "import vizro\n",
        "\n",
        "print(vizro.__version__)"
      ],
      "metadata": {
        "colab": {
          "base_uri": "https://localhost:8080/",
          "height": 72
        },
        "id": "TOLK1VNdp89O",
        "outputId": "6f1be5e6-bb51-41e3-8d47-410b624a8235"
      },
      "execution_count": null,
      "outputs": [
        {
          "output_type": "stream",
          "name": "stderr",
          "text": [
            "INFO:vizro.charts._charts_utils:Overwriting plotly default template with vizro chart template. To revert back to the default template, run `import plotly.io as pio; pio.templates.default = 'plotly'`.\n"
          ]
        },
        {
          "output_type": "stream",
          "name": "stdout",
          "text": [
            "0.1.15\n"
          ]
        }
      ]
    },
    {
      "cell_type": "code",
      "source": [
        "import vizro.plotly.express as px\n",
        "from vizro import Vizro\n",
        "import vizro.models as vm\n",
        "\n",
        "df = px.data.iris()\n",
        "\n",
        "page = vm.Page(\n",
        "    title=\"My first dashboard\",\n",
        "    components=[\n",
        "        vm.Graph(id=\"scatter_chart\", figure=px.scatter(df, x=\"sepal_length\", y=\"petal_width\", color=\"species\")),\n",
        "        vm.Graph(id=\"hist_chart\", figure=px.histogram(df, x=\"sepal_width\", color=\"species\")),\n",
        "    ],\n",
        "    controls=[\n",
        "        vm.Filter(column=\"species\", selector=vm.Dropdown(value=[\"ALL\"])),\n",
        "    ],\n",
        ")\n",
        "\n",
        "dashboard = vm.Dashboard(pages=[page])\n",
        "\n",
        "Vizro().build(dashboard).run()"
      ],
      "metadata": {
        "colab": {
          "base_uri": "https://localhost:8080/",
          "height": 408
        },
        "id": "1LbvB8F6qGH9",
        "outputId": "04569a6c-e951-4aeb-f25f-cc8f0b3e987d"
      },
      "execution_count": null,
      "outputs": [
        {
          "output_type": "error",
          "ename": "ValidationError",
          "evalue": "1 validation error for Graph\nfigure\n  Component with id=scatter_chart already exists and is mapped to data bc0271d3-f0a9-4c50-b349-f77810e6de8a. Components must uniquely map to a data source across the whole dashboard. If you are working from a Jupyter Notebook, please either restart the kernel, or use 'from vizro import Vizro; Vizro._reset()`. (type=value_error)",
          "traceback": [
            "\u001b[0;31m---------------------------------------------------------------------------\u001b[0m",
            "\u001b[0;31mValidationError\u001b[0m                           Traceback (most recent call last)",
            "\u001b[0;32m<ipython-input-4-9f837f82e92b>\u001b[0m in \u001b[0;36m<cell line: 7>\u001b[0;34m()\u001b[0m\n\u001b[1;32m      8\u001b[0m     \u001b[0mtitle\u001b[0m\u001b[0;34m=\u001b[0m\u001b[0;34m\"My first dashboard\"\u001b[0m\u001b[0;34m,\u001b[0m\u001b[0;34m\u001b[0m\u001b[0;34m\u001b[0m\u001b[0m\n\u001b[1;32m      9\u001b[0m     components=[\n\u001b[0;32m---> 10\u001b[0;31m         \u001b[0mvm\u001b[0m\u001b[0;34m.\u001b[0m\u001b[0mGraph\u001b[0m\u001b[0;34m(\u001b[0m\u001b[0mid\u001b[0m\u001b[0;34m=\u001b[0m\u001b[0;34m\"scatter_chart\"\u001b[0m\u001b[0;34m,\u001b[0m \u001b[0mfigure\u001b[0m\u001b[0;34m=\u001b[0m\u001b[0mpx\u001b[0m\u001b[0;34m.\u001b[0m\u001b[0mscatter\u001b[0m\u001b[0;34m(\u001b[0m\u001b[0mdf\u001b[0m\u001b[0;34m,\u001b[0m \u001b[0mx\u001b[0m\u001b[0;34m=\u001b[0m\u001b[0;34m\"sepal_length\"\u001b[0m\u001b[0;34m,\u001b[0m \u001b[0my\u001b[0m\u001b[0;34m=\u001b[0m\u001b[0;34m\"petal_width\"\u001b[0m\u001b[0;34m,\u001b[0m \u001b[0mcolor\u001b[0m\u001b[0;34m=\u001b[0m\u001b[0;34m\"species\"\u001b[0m\u001b[0;34m)\u001b[0m\u001b[0;34m)\u001b[0m\u001b[0;34m,\u001b[0m\u001b[0;34m\u001b[0m\u001b[0;34m\u001b[0m\u001b[0m\n\u001b[0m\u001b[1;32m     11\u001b[0m         \u001b[0mvm\u001b[0m\u001b[0;34m.\u001b[0m\u001b[0mGraph\u001b[0m\u001b[0;34m(\u001b[0m\u001b[0mid\u001b[0m\u001b[0;34m=\u001b[0m\u001b[0;34m\"hist_chart\"\u001b[0m\u001b[0;34m,\u001b[0m \u001b[0mfigure\u001b[0m\u001b[0;34m=\u001b[0m\u001b[0mpx\u001b[0m\u001b[0;34m.\u001b[0m\u001b[0mhistogram\u001b[0m\u001b[0;34m(\u001b[0m\u001b[0mdf\u001b[0m\u001b[0;34m,\u001b[0m \u001b[0mx\u001b[0m\u001b[0;34m=\u001b[0m\u001b[0;34m\"sepal_width\"\u001b[0m\u001b[0;34m,\u001b[0m \u001b[0mcolor\u001b[0m\u001b[0;34m=\u001b[0m\u001b[0;34m\"species\"\u001b[0m\u001b[0;34m)\u001b[0m\u001b[0;34m)\u001b[0m\u001b[0;34m,\u001b[0m\u001b[0;34m\u001b[0m\u001b[0;34m\u001b[0m\u001b[0m\n\u001b[1;32m     12\u001b[0m     ],\n",
            "\u001b[0;32m/usr/local/lib/python3.10/dist-packages/vizro/models/_models_utils.py\u001b[0m in \u001b[0;36m_wrapper\u001b[0;34m(self, *args, **kwargs)\u001b[0m\n\u001b[1;32m      9\u001b[0m     \u001b[0;32mdef\u001b[0m \u001b[0m_wrapper\u001b[0m\u001b[0;34m(\u001b[0m\u001b[0mself\u001b[0m\u001b[0;34m,\u001b[0m \u001b[0;34m*\u001b[0m\u001b[0margs\u001b[0m\u001b[0;34m,\u001b[0m \u001b[0;34m**\u001b[0m\u001b[0mkwargs\u001b[0m\u001b[0;34m)\u001b[0m\u001b[0;34m:\u001b[0m\u001b[0;34m\u001b[0m\u001b[0;34m\u001b[0m\u001b[0m\n\u001b[1;32m     10\u001b[0m         \u001b[0;31m# We need to run method before logging so that @_log_call works for __init__.\u001b[0m\u001b[0;34m\u001b[0m\u001b[0;34m\u001b[0m\u001b[0m\n\u001b[0;32m---> 11\u001b[0;31m         \u001b[0mreturn_value\u001b[0m \u001b[0;34m=\u001b[0m \u001b[0mmethod\u001b[0m\u001b[0;34m(\u001b[0m\u001b[0mself\u001b[0m\u001b[0;34m,\u001b[0m \u001b[0;34m*\u001b[0m\u001b[0margs\u001b[0m\u001b[0;34m,\u001b[0m \u001b[0;34m**\u001b[0m\u001b[0mkwargs\u001b[0m\u001b[0;34m)\u001b[0m\u001b[0;34m\u001b[0m\u001b[0;34m\u001b[0m\u001b[0m\n\u001b[0m\u001b[1;32m     12\u001b[0m         \u001b[0mlogger\u001b[0m\u001b[0;34m.\u001b[0m\u001b[0mdebug\u001b[0m\u001b[0;34m(\u001b[0m\u001b[0;34m\"Running %s.%s for model with id %s\"\u001b[0m\u001b[0;34m,\u001b[0m \u001b[0mself\u001b[0m\u001b[0;34m.\u001b[0m\u001b[0m__class__\u001b[0m\u001b[0;34m.\u001b[0m\u001b[0m__name__\u001b[0m\u001b[0;34m,\u001b[0m \u001b[0mmethod\u001b[0m\u001b[0;34m.\u001b[0m\u001b[0m__name__\u001b[0m\u001b[0;34m,\u001b[0m \u001b[0mself\u001b[0m\u001b[0;34m.\u001b[0m\u001b[0mid\u001b[0m\u001b[0;34m)\u001b[0m\u001b[0;34m\u001b[0m\u001b[0;34m\u001b[0m\u001b[0m\n\u001b[1;32m     13\u001b[0m         \u001b[0;32mreturn\u001b[0m \u001b[0mreturn_value\u001b[0m\u001b[0;34m\u001b[0m\u001b[0;34m\u001b[0m\u001b[0m\n",
            "\u001b[0;32m/usr/local/lib/python3.10/dist-packages/vizro/models/_base.py\u001b[0m in \u001b[0;36m__init__\u001b[0;34m(self, **data)\u001b[0m\n\u001b[1;32m     40\u001b[0m         \u001b[0;31m# Note this runs after the set_id validator, so self.id is available here. In pydantic v2 we should do this\u001b[0m\u001b[0;34m\u001b[0m\u001b[0;34m\u001b[0m\u001b[0m\n\u001b[1;32m     41\u001b[0m         \u001b[0;31m# using the new model_post_init method to avoid overriding __init__.\u001b[0m\u001b[0;34m\u001b[0m\u001b[0;34m\u001b[0m\u001b[0m\n\u001b[0;32m---> 42\u001b[0;31m         \u001b[0msuper\u001b[0m\u001b[0;34m(\u001b[0m\u001b[0;34m)\u001b[0m\u001b[0;34m.\u001b[0m\u001b[0m__init__\u001b[0m\u001b[0;34m(\u001b[0m\u001b[0;34m**\u001b[0m\u001b[0mdata\u001b[0m\u001b[0;34m)\u001b[0m\u001b[0;34m\u001b[0m\u001b[0;34m\u001b[0m\u001b[0m\n\u001b[0m\u001b[1;32m     43\u001b[0m         \u001b[0mmodel_manager\u001b[0m\u001b[0;34m[\u001b[0m\u001b[0mself\u001b[0m\u001b[0;34m.\u001b[0m\u001b[0mid\u001b[0m\u001b[0;34m]\u001b[0m \u001b[0;34m=\u001b[0m \u001b[0mself\u001b[0m\u001b[0;34m\u001b[0m\u001b[0;34m\u001b[0m\u001b[0m\n\u001b[1;32m     44\u001b[0m \u001b[0;34m\u001b[0m\u001b[0m\n",
            "\u001b[0;32m/usr/local/lib/python3.10/dist-packages/pydantic/v1/main.py\u001b[0m in \u001b[0;36m__init__\u001b[0;34m(__pydantic_self__, **data)\u001b[0m\n\u001b[1;32m    339\u001b[0m         \u001b[0mvalues\u001b[0m\u001b[0;34m,\u001b[0m \u001b[0mfields_set\u001b[0m\u001b[0;34m,\u001b[0m \u001b[0mvalidation_error\u001b[0m \u001b[0;34m=\u001b[0m \u001b[0mvalidate_model\u001b[0m\u001b[0;34m(\u001b[0m\u001b[0m__pydantic_self__\u001b[0m\u001b[0;34m.\u001b[0m\u001b[0m__class__\u001b[0m\u001b[0;34m,\u001b[0m \u001b[0mdata\u001b[0m\u001b[0;34m)\u001b[0m\u001b[0;34m\u001b[0m\u001b[0;34m\u001b[0m\u001b[0m\n\u001b[1;32m    340\u001b[0m         \u001b[0;32mif\u001b[0m \u001b[0mvalidation_error\u001b[0m\u001b[0;34m:\u001b[0m\u001b[0;34m\u001b[0m\u001b[0;34m\u001b[0m\u001b[0m\n\u001b[0;32m--> 341\u001b[0;31m             \u001b[0;32mraise\u001b[0m \u001b[0mvalidation_error\u001b[0m\u001b[0;34m\u001b[0m\u001b[0;34m\u001b[0m\u001b[0m\n\u001b[0m\u001b[1;32m    342\u001b[0m         \u001b[0;32mtry\u001b[0m\u001b[0;34m:\u001b[0m\u001b[0;34m\u001b[0m\u001b[0;34m\u001b[0m\u001b[0m\n\u001b[1;32m    343\u001b[0m             \u001b[0mobject_setattr\u001b[0m\u001b[0;34m(\u001b[0m\u001b[0m__pydantic_self__\u001b[0m\u001b[0;34m,\u001b[0m \u001b[0;34m'__dict__'\u001b[0m\u001b[0;34m,\u001b[0m \u001b[0mvalues\u001b[0m\u001b[0;34m)\u001b[0m\u001b[0;34m\u001b[0m\u001b[0;34m\u001b[0m\u001b[0m\n",
            "\u001b[0;31mValidationError\u001b[0m: 1 validation error for Graph\nfigure\n  Component with id=scatter_chart already exists and is mapped to data bc0271d3-f0a9-4c50-b349-f77810e6de8a. Components must uniquely map to a data source across the whole dashboard. If you are working from a Jupyter Notebook, please either restart the kernel, or use 'from vizro import Vizro; Vizro._reset()`. (type=value_error)"
          ]
        }
      ]
    }
  ]
}